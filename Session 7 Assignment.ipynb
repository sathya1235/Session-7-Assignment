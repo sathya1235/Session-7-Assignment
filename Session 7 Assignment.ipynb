{
 "cells": [
  {
   "cell_type": "code",
   "execution_count": null,
   "metadata": {},
   "outputs": [],
   "source": [
    "# Write a function to find moving average in an array over a window:  \n",
    "# Test it over [3,5,7,2,8,10,11,65,72,81,99,100,150] and window of 3.  "
   ]
  },
  {
   "cell_type": "code",
   "execution_count": 3,
   "metadata": {},
   "outputs": [
    {
     "name": "stdout",
     "output_type": "stream",
     "text": [
      "Moving Average of [  3   5   7   2   8  10  11  65  72  81  99 100 150] over a window  of 3 is :\n",
      " [  5.           4.66666667   5.66666667   6.66666667   9.66666667\n",
      "  28.66666667  49.33333333  72.66666667  84.          93.33333333\n",
      " 116.33333333]\n"
     ]
    }
   ],
   "source": [
    "import numpy as np\n",
    "\n",
    "#function to find moving average in an array over a window\n",
    "def moving_average(data_set, window):\n",
    "    weights = np.ones(window) / window  #  second one-dimensional array.\n",
    "    return np.convolve(data_set, weights, mode='valid') #Returns the discrete, linear convolution of two one-dimensional sequences.\n",
    "\n",
    "data_list=  [3,5,7,2,8,10,11,65,72,81,99,100,150] # list input\n",
    "data_arr= np.asarray(data_list)   #  first one-dimensional input array\n",
    "w=3                               # window size to find weight\n",
    "\n",
    "ma = moving_average(data_arr, 3)  # calling function to find moving average in an array over a window\n",
    "print(\"Moving Average of {} over a window  of {} is :\\n {}\".format(data_arr,w,ma))\n"
   ]
  }
 ],
 "metadata": {
  "kernelspec": {
   "display_name": "Python 3",
   "language": "python",
   "name": "python3"
  },
  "language_info": {
   "codemirror_mode": {
    "name": "ipython",
    "version": 3
   },
   "file_extension": ".py",
   "mimetype": "text/x-python",
   "name": "python",
   "nbconvert_exporter": "python",
   "pygments_lexer": "ipython3",
   "version": "3.7.0"
  }
 },
 "nbformat": 4,
 "nbformat_minor": 2
}
